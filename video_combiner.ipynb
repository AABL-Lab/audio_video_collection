{
 "cells": [
  {
   "cell_type": "code",
   "execution_count": 2,
   "id": "bb7ff953",
   "metadata": {},
   "outputs": [],
   "source": [
    "import os\n",
    "\n",
    "folder = os.getcwd()\n",
    "camera_id = 1\n",
    "output_file = os.path.join(folder, f\"video_{camera_id}.txt\")\n",
    "\n",
    "with open(output_file, \"w\") as f:\n",
    "    for fname in sorted(os.listdir(folder)):\n",
    "        if fname.startswith(f\"camera{camera_id}_\") and fname.endswith(\".mp4\"):\n",
    "            abs_path = os.path.abspath(fname)\n",
    "            f.write(f\"file '{abs_path}'\\n\")\n"
   ]
  }
 ],
 "metadata": {
  "kernelspec": {
   "display_name": "Python 3",
   "language": "python",
   "name": "python3"
  },
  "language_info": {
   "codemirror_mode": {
    "name": "ipython",
    "version": 3
   },
   "file_extension": ".py",
   "mimetype": "text/x-python",
   "name": "python",
   "nbconvert_exporter": "python",
   "pygments_lexer": "ipython3",
   "version": "3.13.7"
  }
 },
 "nbformat": 4,
 "nbformat_minor": 5
}
